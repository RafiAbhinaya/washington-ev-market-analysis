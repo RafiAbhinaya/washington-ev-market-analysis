{
 "cells": [
  {
   "cell_type": "markdown",
   "id": "e4a4d4ac",
   "metadata": {},
   "source": [
    "___\n",
    "# **Washington EV Market Exploratory Data Analysis**\n",
    "\n",
    "This Notebook's purpose is to conduct analysis on the Washington EV Market to help the EV companies formulate a robust sales and expansion plan.\n",
    "\n",
    "Dashboard Link: [Washington EV Market Dashboard](https://public.tableau.com/app/profile/muhammad.rafi.abhinaya/viz/WashingtonStateEVMarketDashboard/Dashboard1)\n",
    "___"
   ]
  },
  {
   "cell_type": "markdown",
   "id": "c041dd2b",
   "metadata": {},
   "source": [
    "# **Business Understanding**"
   ]
  },
  {
   "cell_type": "markdown",
   "id": "7683b6f0",
   "metadata": {},
   "source": [
    "## **Background**\n",
    "Electric Vehicles (EV) are taking over the otomotive industry globally and rapidly. According to various sources, The United States of America (USA) has the biggest EV market, just behind China. Refering to [statista.com](https://www.statista.com/outlook/mmo/electric-vehicles/united-states#key-market-indicators), the EV market in USA is expected to have a growth rate of 12.61%, which results to a projected market volume of US$154.2bn by 2029. Not only that, adoption of EVs by American citizens are growing, this is affected by increasing availability of EV models, government incentives, etc ([fortune business insights](https://www.fortunebusinessinsights.com/u-s-electric-vehicle-market-106396#:~:text=The%20share%20of%20electric%20vehicle,sales%20during%20the%20forecast%20period.)).\n",
    "\n",
    "As a country with multiple states, the EV market differs from state by state. One of the leading states for the EV market share is Washington. According to [Clean Technica](https://cleantechnica.com/2025/05/14/top-us-states-for-ev-market-share-13-states-with-10-ev-share/), Washington holds the third place of the highest EV market share with 24.6%. In 2024, the Washington state EV market saw a significant increase in EV sales and registrations . The state experienced a 34% increase in registered EVs between 2023 and 2024 ([Washington State Department of Transportation](https://wsdot.wa.gov/about/data/gray-notebook/gnbhome/environment/electricvehicles/default.htm#:~:text=2024%20*%20The%20number%20of%20registered%20electric,of%20WSDOT's%20passenger%20vehicle%20fleet%20is%20electric.)). The department also reported that the state is actively investing in EV infrastructure, with 2,090 Level 2 charging stations and 386 fast charging stations available as of 2024. These facts shows that Washington has a big and growing market for EVs."
   ]
  },
  {
   "cell_type": "markdown",
   "id": "57868d13",
   "metadata": {},
   "source": [
    "## **Problem Statement**\n",
    "From the background above, it can be concluded that Washington State is prime target for sales and expansion for EV companies. But, a Washington EV market analysis is needed first to understand the current state of the EV market and customer EV preferences. In this project, I analyzed the Washington State Electric Vehicle market to uncover insights that can help EV companies strategize their sales and expansion plan better.\n",
    "\n",
    "For better clarity, sub-problems will be defined for this analysis. These sub-problem will be the key to uncovering valuable insights from the Washington EV market. Here are the sub-problems:\n",
    "\n",
    "1. **What is the current distribution of EVs across Counties in Washington?**\n",
    "      \n",
    "      Washington State has multiple counties, and population varies between counties. Knowing how is the EV distribution across counties will give us insights on which county should we target.\n",
    "\n",
    "2. **Who are the five biggest EV manufacturers in Washington?**\n",
    "\n",
    "      Knowing our competitor is important in entering a market. From this we can get a better understanding of the most common EV companies and the preferences of the customers.\n",
    "\n",
    "3. **Which EV type is more prefered in Washington?**\n",
    "\n",
    "      There are more than just one type of EVs. Knowing which type is more prefered in Washington can help the company come up with a better sales strategy.\n",
    "\n",
    "4. **What are the five most common electric utility companies involved in EV infrastructure across counties in Washington State?**\n",
    "\n",
    "      From this, we can identify key electric utilities supporting EV adoption and target collaboration opportunities to accelerate our company's EV growth.\n",
    "\n",
    "5. **How is the current EV pricing situation in Washington State?**\n",
    "\n",
    "      Knowing the current state of EVs prices will give a better idea on which kind of EVs are more prefered based on pricing.\n",
    "\n",
    "6. **What is a statistically reliable average price range for selling EVs in Washington?**\n",
    "\n",
    "      By knowing the this, we can safely conlude a price range where customers are more likely to purchase. Confidence interval can be used to find this range.\n"
   ]
  },
  {
   "cell_type": "markdown",
   "id": "72bc931c",
   "metadata": {},
   "source": [
    "## **Dataset**\n",
    "The data used for this analysis is from \"Electric Vehicle Population Data 2024\", Kaggle. This dataset shows the Battery Electric Vehicles (BEVs) and Plug-in Hybrid Electric Vehicles (PHEVs) that are currently registered through Washington State Department of Licensing (DOL). The dataset was last updated in 2024, meaning the dataset highly relevant to the current time. The dataset contains 177,865 rows and 17 columns as follows:\n",
    "| Column Name                                             | Description                                                                                           |\n",
    "|---------------------------------------------------------|-------------------------------------------------------------------------------------------------------|\n",
    "| `VIN (1-10)`                                            | The first 10 characters of the Vehicle Identification Number assigned to each vehicle for identification purposes. |\n",
    "| `County`                                                | The county where the vehicle is registered in Washington State.                                       |\n",
    "| `City`                                                  | The city where the vehicle is registered in Washington State.                                         |\n",
    "| `State`                                                 | The state where the vehicle is registered, which is Washington in this case.                          |\n",
    "| `Postal Code`                                           | The postal code of the registration address for the vehicle.                                          |\n",
    "| `Model Year`                                            | The year in which the vehicle was manufactured.                                                       |\n",
    "| `Make`                                                  | The manufacturer or brand of the vehicle.                                                             |\n",
    "| `Model`                                                 | The specific model or name of the vehicle.                                                            |\n",
    "| `Electric Vehicle Type`                                 | Indicates whether the vehicle is a Battery Electric Vehicle (BEV) or a Plug-in Hybrid Electric Vehicle (PHEV). |\n",
    "| `Clean Alternative Fuel Vehicle (CAFV) Eligibility`     | Indicates if the vehicle meets the eligibility criteria for Clean Alternative Fuel Vehicle incentives or benefits. |\n",
    "| `Electric Range`                                        | The distance the vehicle can travel on electric power alone, typically measured in miles.             |\n",
    "| `Base MSRP`                                             | The Manufacturer's Suggested Retail Price, which is the starting price set by the vehicle manufacturer. |\n",
    "| `Legislative District`                                  | The legislative district associated with the vehicle's registered address.                            |\n",
    "| `DOL Vehicle ID`                                        | A unique identifier assigned by the Washington State Department of Licensing (DOL) for each registered vehicle. |\n",
    "| `Vehicle Location`                                      | The precise location of the vehicle, which could be the address or coordinates.                       |\n",
    "| `Electric Utility`                                      | The name of the electric utility company associated with the vehicle, if applicable.                  |\n",
    "| `2020 Census Tract`                                     | The census tract associated with the vehicle's registered address, based on the 2020 Census data.     |\n",
    "\n",
    "\n",
    "You can access the dataset [here](https://www.kaggle.com/datasets/utkarshx27/electric-vehicle-population-data/data)."
   ]
  },
  {
   "cell_type": "markdown",
   "id": "42f8ab01",
   "metadata": {},
   "source": [
    "___\n",
    "# **Data Preparation**\n",
    "To make sure the dataset is ready for analysis, we will conduct data preparation by doing data loading and data cleaning."
   ]
  },
  {
   "cell_type": "markdown",
   "id": "47c5503f",
   "metadata": {},
   "source": [
    "## **Data Loading**\n",
    "Let's now load the data from the .csv file."
   ]
  },
  {
   "cell_type": "code",
   "execution_count": 125,
   "id": "8313e2d0",
   "metadata": {},
   "outputs": [],
   "source": [
    "# import libaries\n",
    "import pandas as pd\n",
    "import numpy as np\n",
    "from scipy import stats\n",
    "import matplotlib.pyplot as plt\n",
    "import seaborn as sns\n",
    "import geopandas as gpd\n",
    "from IPython.display import display"
   ]
  },
  {
   "cell_type": "code",
   "execution_count": 126,
   "id": "567ccc77",
   "metadata": {},
   "outputs": [],
   "source": [
    "# load dataset from directory\n",
    "df = pd.read_csv('washington_ev_data.csv')"
   ]
  },
  {
   "cell_type": "code",
   "execution_count": 127,
   "id": "f88b37aa",
   "metadata": {},
   "outputs": [
    {
     "data": {
      "text/html": [
       "<div>\n",
       "<style scoped>\n",
       "    .dataframe tbody tr th:only-of-type {\n",
       "        vertical-align: middle;\n",
       "    }\n",
       "\n",
       "    .dataframe tbody tr th {\n",
       "        vertical-align: top;\n",
       "    }\n",
       "\n",
       "    .dataframe thead th {\n",
       "        text-align: right;\n",
       "    }\n",
       "</style>\n",
       "<table border=\"1\" class=\"dataframe\">\n",
       "  <thead>\n",
       "    <tr style=\"text-align: right;\">\n",
       "      <th></th>\n",
       "      <th>VIN (1-10)</th>\n",
       "      <th>County</th>\n",
       "      <th>City</th>\n",
       "      <th>State</th>\n",
       "      <th>Postal Code</th>\n",
       "      <th>Model Year</th>\n",
       "      <th>Make</th>\n",
       "      <th>Model</th>\n",
       "      <th>Electric Vehicle Type</th>\n",
       "      <th>Clean Alternative Fuel Vehicle (CAFV) Eligibility</th>\n",
       "      <th>Electric Range</th>\n",
       "      <th>Base MSRP</th>\n",
       "      <th>Legislative District</th>\n",
       "      <th>DOL Vehicle ID</th>\n",
       "      <th>Vehicle Location</th>\n",
       "      <th>Electric Utility</th>\n",
       "      <th>2020 Census Tract</th>\n",
       "    </tr>\n",
       "  </thead>\n",
       "  <tbody>\n",
       "    <tr>\n",
       "      <th>0</th>\n",
       "      <td>5YJYGDEE1L</td>\n",
       "      <td>King</td>\n",
       "      <td>Seattle</td>\n",
       "      <td>WA</td>\n",
       "      <td>98122.0</td>\n",
       "      <td>2020</td>\n",
       "      <td>TESLA</td>\n",
       "      <td>MODEL Y</td>\n",
       "      <td>Battery Electric Vehicle (BEV)</td>\n",
       "      <td>Clean Alternative Fuel Vehicle Eligible</td>\n",
       "      <td>291</td>\n",
       "      <td>0</td>\n",
       "      <td>37.0</td>\n",
       "      <td>125701579</td>\n",
       "      <td>POINT (-122.30839 47.610365)</td>\n",
       "      <td>CITY OF SEATTLE - (WA)|CITY OF TACOMA - (WA)</td>\n",
       "      <td>5.303301e+10</td>\n",
       "    </tr>\n",
       "    <tr>\n",
       "      <th>1</th>\n",
       "      <td>7SAYGDEE9P</td>\n",
       "      <td>Snohomish</td>\n",
       "      <td>Bothell</td>\n",
       "      <td>WA</td>\n",
       "      <td>98021.0</td>\n",
       "      <td>2023</td>\n",
       "      <td>TESLA</td>\n",
       "      <td>MODEL Y</td>\n",
       "      <td>Battery Electric Vehicle (BEV)</td>\n",
       "      <td>Eligibility unknown as battery range has not b...</td>\n",
       "      <td>0</td>\n",
       "      <td>0</td>\n",
       "      <td>1.0</td>\n",
       "      <td>244285107</td>\n",
       "      <td>POINT (-122.179458 47.802589)</td>\n",
       "      <td>PUGET SOUND ENERGY INC</td>\n",
       "      <td>5.306105e+10</td>\n",
       "    </tr>\n",
       "    <tr>\n",
       "      <th>2</th>\n",
       "      <td>5YJSA1E4XK</td>\n",
       "      <td>King</td>\n",
       "      <td>Seattle</td>\n",
       "      <td>WA</td>\n",
       "      <td>98109.0</td>\n",
       "      <td>2019</td>\n",
       "      <td>TESLA</td>\n",
       "      <td>MODEL S</td>\n",
       "      <td>Battery Electric Vehicle (BEV)</td>\n",
       "      <td>Clean Alternative Fuel Vehicle Eligible</td>\n",
       "      <td>270</td>\n",
       "      <td>0</td>\n",
       "      <td>36.0</td>\n",
       "      <td>156773144</td>\n",
       "      <td>POINT (-122.34848 47.632405)</td>\n",
       "      <td>CITY OF SEATTLE - (WA)|CITY OF TACOMA - (WA)</td>\n",
       "      <td>5.303301e+10</td>\n",
       "    </tr>\n",
       "    <tr>\n",
       "      <th>3</th>\n",
       "      <td>5YJSA1E27G</td>\n",
       "      <td>King</td>\n",
       "      <td>Issaquah</td>\n",
       "      <td>WA</td>\n",
       "      <td>98027.0</td>\n",
       "      <td>2016</td>\n",
       "      <td>TESLA</td>\n",
       "      <td>MODEL S</td>\n",
       "      <td>Battery Electric Vehicle (BEV)</td>\n",
       "      <td>Clean Alternative Fuel Vehicle Eligible</td>\n",
       "      <td>210</td>\n",
       "      <td>0</td>\n",
       "      <td>5.0</td>\n",
       "      <td>165103011</td>\n",
       "      <td>POINT (-122.03646 47.534065)</td>\n",
       "      <td>PUGET SOUND ENERGY INC||CITY OF TACOMA - (WA)</td>\n",
       "      <td>5.303303e+10</td>\n",
       "    </tr>\n",
       "    <tr>\n",
       "      <th>4</th>\n",
       "      <td>5YJYGDEE5M</td>\n",
       "      <td>Kitsap</td>\n",
       "      <td>Suquamish</td>\n",
       "      <td>WA</td>\n",
       "      <td>98392.0</td>\n",
       "      <td>2021</td>\n",
       "      <td>TESLA</td>\n",
       "      <td>MODEL Y</td>\n",
       "      <td>Battery Electric Vehicle (BEV)</td>\n",
       "      <td>Eligibility unknown as battery range has not b...</td>\n",
       "      <td>0</td>\n",
       "      <td>0</td>\n",
       "      <td>23.0</td>\n",
       "      <td>205138552</td>\n",
       "      <td>POINT (-122.55717 47.733415)</td>\n",
       "      <td>PUGET SOUND ENERGY INC</td>\n",
       "      <td>5.303594e+10</td>\n",
       "    </tr>\n",
       "  </tbody>\n",
       "</table>\n",
       "</div>"
      ],
      "text/plain": [
       "   VIN (1-10)     County       City State  Postal Code  Model Year   Make  \\\n",
       "0  5YJYGDEE1L       King    Seattle    WA      98122.0        2020  TESLA   \n",
       "1  7SAYGDEE9P  Snohomish    Bothell    WA      98021.0        2023  TESLA   \n",
       "2  5YJSA1E4XK       King    Seattle    WA      98109.0        2019  TESLA   \n",
       "3  5YJSA1E27G       King   Issaquah    WA      98027.0        2016  TESLA   \n",
       "4  5YJYGDEE5M     Kitsap  Suquamish    WA      98392.0        2021  TESLA   \n",
       "\n",
       "     Model           Electric Vehicle Type  \\\n",
       "0  MODEL Y  Battery Electric Vehicle (BEV)   \n",
       "1  MODEL Y  Battery Electric Vehicle (BEV)   \n",
       "2  MODEL S  Battery Electric Vehicle (BEV)   \n",
       "3  MODEL S  Battery Electric Vehicle (BEV)   \n",
       "4  MODEL Y  Battery Electric Vehicle (BEV)   \n",
       "\n",
       "   Clean Alternative Fuel Vehicle (CAFV) Eligibility  Electric Range  \\\n",
       "0            Clean Alternative Fuel Vehicle Eligible             291   \n",
       "1  Eligibility unknown as battery range has not b...               0   \n",
       "2            Clean Alternative Fuel Vehicle Eligible             270   \n",
       "3            Clean Alternative Fuel Vehicle Eligible             210   \n",
       "4  Eligibility unknown as battery range has not b...               0   \n",
       "\n",
       "   Base MSRP  Legislative District  DOL Vehicle ID  \\\n",
       "0          0                  37.0       125701579   \n",
       "1          0                   1.0       244285107   \n",
       "2          0                  36.0       156773144   \n",
       "3          0                   5.0       165103011   \n",
       "4          0                  23.0       205138552   \n",
       "\n",
       "                Vehicle Location  \\\n",
       "0   POINT (-122.30839 47.610365)   \n",
       "1  POINT (-122.179458 47.802589)   \n",
       "2   POINT (-122.34848 47.632405)   \n",
       "3   POINT (-122.03646 47.534065)   \n",
       "4   POINT (-122.55717 47.733415)   \n",
       "\n",
       "                                Electric Utility  2020 Census Tract  \n",
       "0   CITY OF SEATTLE - (WA)|CITY OF TACOMA - (WA)       5.303301e+10  \n",
       "1                         PUGET SOUND ENERGY INC       5.306105e+10  \n",
       "2   CITY OF SEATTLE - (WA)|CITY OF TACOMA - (WA)       5.303301e+10  \n",
       "3  PUGET SOUND ENERGY INC||CITY OF TACOMA - (WA)       5.303303e+10  \n",
       "4                         PUGET SOUND ENERGY INC       5.303594e+10  "
      ]
     },
     "execution_count": 127,
     "metadata": {},
     "output_type": "execute_result"
    }
   ],
   "source": [
    "# show dataset\n",
    "df.head()"
   ]
  },
  {
   "cell_type": "code",
   "execution_count": 128,
   "id": "76ba6947",
   "metadata": {},
   "outputs": [
    {
     "name": "stdout",
     "output_type": "stream",
     "text": [
      "<class 'pandas.core.frame.DataFrame'>\n",
      "RangeIndex: 177865 entries, 0 to 177864\n",
      "Data columns (total 17 columns):\n",
      " #   Column                                             Non-Null Count   Dtype  \n",
      "---  ------                                             --------------   -----  \n",
      " 0   VIN (1-10)                                         177865 non-null  object \n",
      " 1   County                                             177860 non-null  object \n",
      " 2   City                                               177860 non-null  object \n",
      " 3   State                                              177865 non-null  object \n",
      " 4   Postal Code                                        177860 non-null  float64\n",
      " 5   Model Year                                         177865 non-null  int64  \n",
      " 6   Make                                               177865 non-null  object \n",
      " 7   Model                                              177865 non-null  object \n",
      " 8   Electric Vehicle Type                              177865 non-null  object \n",
      " 9   Clean Alternative Fuel Vehicle (CAFV) Eligibility  177865 non-null  object \n",
      " 10  Electric Range                                     177865 non-null  int64  \n",
      " 11  Base MSRP                                          177865 non-null  int64  \n",
      " 12  Legislative District                               177476 non-null  float64\n",
      " 13  DOL Vehicle ID                                     177865 non-null  int64  \n",
      " 14  Vehicle Location                                   177856 non-null  object \n",
      " 15  Electric Utility                                   177860 non-null  object \n",
      " 16  2020 Census Tract                                  177860 non-null  float64\n",
      "dtypes: float64(3), int64(4), object(10)\n",
      "memory usage: 23.1+ MB\n"
     ]
    }
   ],
   "source": [
    "# show dataset information\n",
    "df.info()"
   ]
  },
  {
   "cell_type": "markdown",
   "id": "c341483a",
   "metadata": {},
   "source": [
    "From the output above we can see that the dataset has successfully been loaded. The dataset contains 177,866 rows and 17 columns. From the looks of it, we won't be needing all of the columns. We can filter the dataset to just take the columns that we need for the analysis. The column name also seems to be a bit complicated, therefore we will rename the columns later to simplify analysis. Other than that, there also seems to be some detected missing values."
   ]
  },
  {
   "cell_type": "code",
   "execution_count": 129,
   "id": "24a85c19",
   "metadata": {},
   "outputs": [
    {
     "data": {
      "text/plain": [
       "Index(['VIN (1-10)', 'County', 'City', 'Make', 'Model',\n",
       "       'Electric Vehicle Type',\n",
       "       'Clean Alternative Fuel Vehicle (CAFV) Eligibility', 'Base MSRP',\n",
       "       'Electric Utility'],\n",
       "      dtype='object')"
      ]
     },
     "execution_count": 129,
     "metadata": {},
     "output_type": "execute_result"
    }
   ],
   "source": [
    "# filter out unneeded columns\n",
    "df_clean = df[['VIN (1-10)', 'County', 'City', 'Make', 'Model', 'Electric Vehicle Type',\n",
    "       'Clean Alternative Fuel Vehicle (CAFV) Eligibility', 'Base MSRP','Electric Utility']]\n",
    "\n",
    "# show remaining columns\n",
    "df_clean.columns"
   ]
  },
  {
   "cell_type": "markdown",
   "id": "3418fe6f",
   "metadata": {},
   "source": [
    "Next, I noticed that the value inside column `Electrice Vehicle Type` is very long."
   ]
  },
  {
   "cell_type": "code",
   "execution_count": 130,
   "id": "2fb2843e",
   "metadata": {},
   "outputs": [
    {
     "data": {
      "text/plain": [
       "array(['Battery Electric Vehicle (BEV)',\n",
       "       'Plug-in Hybrid Electric Vehicle (PHEV)'], dtype=object)"
      ]
     },
     "execution_count": 130,
     "metadata": {},
     "output_type": "execute_result"
    }
   ],
   "source": [
    "# check unique values\n",
    "df_clean['Electric Vehicle Type'].unique()"
   ]
  },
  {
   "cell_type": "markdown",
   "id": "6696b425",
   "metadata": {},
   "source": [
    "To make it more readable, I'll change the values to BEV and PHEV."
   ]
  },
  {
   "cell_type": "markdown",
   "id": "ab0f907b",
   "metadata": {},
   "source": [
    "Next, we will check for missing values."
   ]
  },
  {
   "cell_type": "code",
   "execution_count": 131,
   "id": "48dc4851",
   "metadata": {},
   "outputs": [
    {
     "data": {
      "text/plain": [
       "VIN (1-10)                                           0\n",
       "County                                               5\n",
       "City                                                 5\n",
       "Make                                                 0\n",
       "Model                                                0\n",
       "Electric Vehicle Type                                0\n",
       "Clean Alternative Fuel Vehicle (CAFV) Eligibility    0\n",
       "Base MSRP                                            0\n",
       "Electric Utility                                     5\n",
       "dtype: int64"
      ]
     },
     "execution_count": 131,
     "metadata": {},
     "output_type": "execute_result"
    }
   ],
   "source": [
    "# check for missing values\n",
    "df_clean.isna().sum()"
   ]
  },
  {
   "cell_type": "markdown",
   "id": "cddf7990",
   "metadata": {},
   "source": [
    "From the ouput above, there seems to be only three columns with missing values, and the nominal is very minimal. Let's check these rows."
   ]
  },
  {
   "cell_type": "code",
   "execution_count": 132,
   "id": "4f28e738",
   "metadata": {},
   "outputs": [
    {
     "data": {
      "text/html": [
       "<div>\n",
       "<style scoped>\n",
       "    .dataframe tbody tr th:only-of-type {\n",
       "        vertical-align: middle;\n",
       "    }\n",
       "\n",
       "    .dataframe tbody tr th {\n",
       "        vertical-align: top;\n",
       "    }\n",
       "\n",
       "    .dataframe thead th {\n",
       "        text-align: right;\n",
       "    }\n",
       "</style>\n",
       "<table border=\"1\" class=\"dataframe\">\n",
       "  <thead>\n",
       "    <tr style=\"text-align: right;\">\n",
       "      <th></th>\n",
       "      <th>VIN (1-10)</th>\n",
       "      <th>County</th>\n",
       "      <th>City</th>\n",
       "      <th>Make</th>\n",
       "      <th>Model</th>\n",
       "      <th>Electric Vehicle Type</th>\n",
       "      <th>Clean Alternative Fuel Vehicle (CAFV) Eligibility</th>\n",
       "      <th>Base MSRP</th>\n",
       "      <th>Electric Utility</th>\n",
       "    </tr>\n",
       "  </thead>\n",
       "  <tbody>\n",
       "    <tr>\n",
       "      <th>149244</th>\n",
       "      <td>5YJSA1E21J</td>\n",
       "      <td>NaN</td>\n",
       "      <td>NaN</td>\n",
       "      <td>TESLA</td>\n",
       "      <td>MODEL S</td>\n",
       "      <td>Battery Electric Vehicle (BEV)</td>\n",
       "      <td>Clean Alternative Fuel Vehicle Eligible</td>\n",
       "      <td>0</td>\n",
       "      <td>NaN</td>\n",
       "    </tr>\n",
       "    <tr>\n",
       "      <th>154552</th>\n",
       "      <td>5YJ3E1EA5K</td>\n",
       "      <td>NaN</td>\n",
       "      <td>NaN</td>\n",
       "      <td>TESLA</td>\n",
       "      <td>MODEL 3</td>\n",
       "      <td>Battery Electric Vehicle (BEV)</td>\n",
       "      <td>Clean Alternative Fuel Vehicle Eligible</td>\n",
       "      <td>0</td>\n",
       "      <td>NaN</td>\n",
       "    </tr>\n",
       "    <tr>\n",
       "      <th>159156</th>\n",
       "      <td>5YJRE11B48</td>\n",
       "      <td>NaN</td>\n",
       "      <td>NaN</td>\n",
       "      <td>TESLA</td>\n",
       "      <td>ROADSTER</td>\n",
       "      <td>Battery Electric Vehicle (BEV)</td>\n",
       "      <td>Clean Alternative Fuel Vehicle Eligible</td>\n",
       "      <td>98950</td>\n",
       "      <td>NaN</td>\n",
       "    </tr>\n",
       "    <tr>\n",
       "      <th>167297</th>\n",
       "      <td>5YJXCAE24H</td>\n",
       "      <td>NaN</td>\n",
       "      <td>NaN</td>\n",
       "      <td>TESLA</td>\n",
       "      <td>MODEL X</td>\n",
       "      <td>Battery Electric Vehicle (BEV)</td>\n",
       "      <td>Clean Alternative Fuel Vehicle Eligible</td>\n",
       "      <td>0</td>\n",
       "      <td>NaN</td>\n",
       "    </tr>\n",
       "    <tr>\n",
       "      <th>170412</th>\n",
       "      <td>1N4AZ0CP1D</td>\n",
       "      <td>NaN</td>\n",
       "      <td>NaN</td>\n",
       "      <td>NISSAN</td>\n",
       "      <td>LEAF</td>\n",
       "      <td>Battery Electric Vehicle (BEV)</td>\n",
       "      <td>Clean Alternative Fuel Vehicle Eligible</td>\n",
       "      <td>0</td>\n",
       "      <td>NaN</td>\n",
       "    </tr>\n",
       "  </tbody>\n",
       "</table>\n",
       "</div>"
      ],
      "text/plain": [
       "        VIN (1-10) County City    Make     Model  \\\n",
       "149244  5YJSA1E21J    NaN  NaN   TESLA   MODEL S   \n",
       "154552  5YJ3E1EA5K    NaN  NaN   TESLA   MODEL 3   \n",
       "159156  5YJRE11B48    NaN  NaN   TESLA  ROADSTER   \n",
       "167297  5YJXCAE24H    NaN  NaN   TESLA   MODEL X   \n",
       "170412  1N4AZ0CP1D    NaN  NaN  NISSAN      LEAF   \n",
       "\n",
       "                 Electric Vehicle Type  \\\n",
       "149244  Battery Electric Vehicle (BEV)   \n",
       "154552  Battery Electric Vehicle (BEV)   \n",
       "159156  Battery Electric Vehicle (BEV)   \n",
       "167297  Battery Electric Vehicle (BEV)   \n",
       "170412  Battery Electric Vehicle (BEV)   \n",
       "\n",
       "       Clean Alternative Fuel Vehicle (CAFV) Eligibility  Base MSRP  \\\n",
       "149244           Clean Alternative Fuel Vehicle Eligible          0   \n",
       "154552           Clean Alternative Fuel Vehicle Eligible          0   \n",
       "159156           Clean Alternative Fuel Vehicle Eligible      98950   \n",
       "167297           Clean Alternative Fuel Vehicle Eligible          0   \n",
       "170412           Clean Alternative Fuel Vehicle Eligible          0   \n",
       "\n",
       "       Electric Utility  \n",
       "149244              NaN  \n",
       "154552              NaN  \n",
       "159156              NaN  \n",
       "167297              NaN  \n",
       "170412              NaN  "
      ]
     },
     "execution_count": 132,
     "metadata": {},
     "output_type": "execute_result"
    }
   ],
   "source": [
    "# check for rows with missing values\n",
    "df_clean.loc[df_clean.isna().any(axis=1)]"
   ]
  },
  {
   "cell_type": "markdown",
   "id": "d0f2bdea",
   "metadata": {},
   "source": [
    "The missing values (NaN) seems to show that the value of that column is unknown. Since there aren't that many of these rows, considering the huge amount of rows, we can just fill the missing values with 'unknown'.\n",
    "\n",
    "But, some missing values seems to have gone undetected. If we check the `Base MSRP` column, there seems to be a value of 0. A value of 0 means that the car has a price of 0 USD, which is definely not true. Let's check how many rows have the value 0 in this column."
   ]
  },
  {
   "cell_type": "code",
   "execution_count": 133,
   "id": "1ee552cf",
   "metadata": {},
   "outputs": [
    {
     "data": {
      "text/plain": [
       "Base MSRP\n",
       "0         174522\n",
       "69900       1370\n",
       "31950        381\n",
       "52900        222\n",
       "32250        136\n",
       "59900        128\n",
       "54950        126\n",
       "39995        113\n",
       "36900        104\n",
       "44100         92\n",
       "45600         82\n",
       "64950         81\n",
       "33950         76\n",
       "52650         68\n",
       "34995         66\n",
       "36800         55\n",
       "55700         54\n",
       "53400         37\n",
       "81100         23\n",
       "98950         20\n",
       "110950        20\n",
       "90700         19\n",
       "75095         14\n",
       "102000        13\n",
       "184400        10\n",
       "43700         10\n",
       "89100          8\n",
       "109000         7\n",
       "91250          5\n",
       "32995          3\n",
       "Name: count, dtype: int64"
      ]
     },
     "execution_count": 133,
     "metadata": {},
     "output_type": "execute_result"
    }
   ],
   "source": [
    "# number of rows per value\n",
    "df_clean['Base MSRP'].value_counts()"
   ]
  },
  {
   "cell_type": "markdown",
   "id": "ae44f032",
   "metadata": {},
   "source": [
    "From the ouput above, a big majority of the dataset seems to have the value 0 at the column `Base MSRP`. An EV having a base price of 0 is impossible, therefore it can be concluded that the value 0 indicates that the base MSRP is unknown. The Washington DOL, original source of the dataset, might have not known the bace MSRPs of these EVs, hence the value 0."
   ]
  },
  {
   "cell_type": "code",
   "execution_count": 134,
   "id": "933bee19",
   "metadata": {},
   "outputs": [
    {
     "data": {
      "text/html": [
       "<div>\n",
       "<style scoped>\n",
       "    .dataframe tbody tr th:only-of-type {\n",
       "        vertical-align: middle;\n",
       "    }\n",
       "\n",
       "    .dataframe tbody tr th {\n",
       "        vertical-align: top;\n",
       "    }\n",
       "\n",
       "    .dataframe thead th {\n",
       "        text-align: right;\n",
       "    }\n",
       "</style>\n",
       "<table border=\"1\" class=\"dataframe\">\n",
       "  <thead>\n",
       "    <tr style=\"text-align: right;\">\n",
       "      <th></th>\n",
       "      <th></th>\n",
       "      <th>Base MSRP</th>\n",
       "    </tr>\n",
       "    <tr>\n",
       "      <th>Model</th>\n",
       "      <th>Base MSRP</th>\n",
       "      <th></th>\n",
       "    </tr>\n",
       "  </thead>\n",
       "  <tbody>\n",
       "    <tr>\n",
       "      <th rowspan=\"4\" valign=\"top\">330E</th>\n",
       "      <th>0</th>\n",
       "      <td>271</td>\n",
       "    </tr>\n",
       "    <tr>\n",
       "      <th>43700</th>\n",
       "      <td>10</td>\n",
       "    </tr>\n",
       "    <tr>\n",
       "      <th>44100</th>\n",
       "      <td>92</td>\n",
       "    </tr>\n",
       "    <tr>\n",
       "      <th>45600</th>\n",
       "      <td>82</td>\n",
       "    </tr>\n",
       "    <tr>\n",
       "      <th>500</th>\n",
       "      <th>0</th>\n",
       "      <td>784</td>\n",
       "    </tr>\n",
       "    <tr>\n",
       "      <th rowspan=\"5\" valign=\"top\">530E</th>\n",
       "      <th>0</th>\n",
       "      <td>123</td>\n",
       "    </tr>\n",
       "    <tr>\n",
       "      <th>52650</th>\n",
       "      <td>68</td>\n",
       "    </tr>\n",
       "    <tr>\n",
       "      <th>53400</th>\n",
       "      <td>37</td>\n",
       "    </tr>\n",
       "    <tr>\n",
       "      <th>54950</th>\n",
       "      <td>126</td>\n",
       "    </tr>\n",
       "    <tr>\n",
       "      <th>55700</th>\n",
       "      <td>54</td>\n",
       "    </tr>\n",
       "  </tbody>\n",
       "</table>\n",
       "</div>"
      ],
      "text/plain": [
       "                 Base MSRP\n",
       "Model Base MSRP           \n",
       "330E  0                271\n",
       "      43700             10\n",
       "      44100             92\n",
       "      45600             82\n",
       "500   0                784\n",
       "530E  0                123\n",
       "      52650             68\n",
       "      53400             37\n",
       "      54950            126\n",
       "      55700             54"
      ]
     },
     "execution_count": 134,
     "metadata": {},
     "output_type": "execute_result"
    }
   ],
   "source": [
    "# check base MSRP of each model\n",
    "df_clean.groupby(['Model', 'Base MSRP']).agg({'Base MSRP':'count'}).head(10)"
   ]
  },
  {
   "cell_type": "markdown",
   "id": "95ee246e",
   "metadata": {},
   "source": [
    "By grouping the dataset by `Model`, we can see that some EV models have multiple known base prices. While some others have no information of their base prices.\n",
    "\n",
    "From our simple EDA above, we have checked the dataset for general information, filtered out columns, and checked for missing values. From this, here are the next steps that we need to take.\n",
    "- Rename columns to simplify analysis.\n",
    "- Rename values in column `Electric Vehicle Type` to make it more readable.\n",
    "- Handle missing values as follow:\n",
    "    - Missing values in column `County`, `City`, and `Electric Utility` will be filled with 'unknown'.\n",
    "    - Undetected missing values in column `Base MSRP` will be handled as follow:\n",
    "        - If the EV model has multiple `Base MSRP` unique values (including 0), rows that have a `Base MSRP` of 0 will be filled with the average of the other `Base MSRP` of the same model.\n",
    "        - If the EV model only has a `Base MSRP` of 0, a big portion will be filled with a base price from external sources, while the smaller portion will be dropped. This decision will be further explained in the missing value handling section."
   ]
  },
  {
   "cell_type": "markdown",
   "id": "e5fd300b",
   "metadata": {},
   "source": [
    "## **Data Cleaning**\n",
    "The dataset will undergo data cleaning in order to make it better suited for analysis.\n",
    "\n",
    "The first step is to reformat the column names."
   ]
  },
  {
   "cell_type": "code",
   "execution_count": 135,
   "id": "05d78a10",
   "metadata": {},
   "outputs": [
    {
     "data": {
      "text/plain": [
       "Index(['VIN', 'County', 'City', 'Make', 'Model', 'EV_Type', 'CAFV_Eligibility',\n",
       "       'Base_MSRP', 'Electric_Utility'],\n",
       "      dtype='object')"
      ]
     },
     "execution_count": 135,
     "metadata": {},
     "output_type": "execute_result"
    }
   ],
   "source": [
    "# rename complex column names\n",
    "df_clean = df_clean.rename(columns={'VIN (1-10)':'VIN',\n",
    "                        'Electric Vehicle Type':'EV_Type',\n",
    "                        'Clean Alternative Fuel Vehicle (CAFV) Eligibility':'CAFV_Eligibility'})\n",
    "\n",
    "# substitute ' ' with '_'\n",
    "df_clean.columns = [col.replace(' ', '_') for col in df_clean.columns]\n",
    "\n",
    "# check column name\n",
    "df_clean.columns"
   ]
  },
  {
   "cell_type": "markdown",
   "id": "11bca226",
   "metadata": {},
   "source": [
    "After that, we'll change the values is column `EV_Type` to make it more readable."
   ]
  },
  {
   "cell_type": "code",
   "execution_count": 136,
   "id": "95e1e018",
   "metadata": {},
   "outputs": [
    {
     "data": {
      "text/plain": [
       "array(['BEV', 'PHEV'], dtype=object)"
      ]
     },
     "execution_count": 136,
     "metadata": {},
     "output_type": "execute_result"
    }
   ],
   "source": [
    "# change values\n",
    "df_clean.loc[df_clean['EV_Type'] == 'Battery Electric Vehicle (BEV)', 'EV_Type'] = 'BEV'\n",
    "df_clean.loc[df_clean['EV_Type'] == 'Plug-in Hybrid Electric Vehicle (PHEV)', 'EV_Type'] = 'PHEV'\n",
    "\n",
    "# show unique values\n",
    "df_clean['EV_Type'].unique()"
   ]
  },
  {
   "cell_type": "markdown",
   "id": "dc15adc0",
   "metadata": {},
   "source": [
    "Next, we will handle missing values in column `County`, `City`, and `Electric Utility` by filling it with 'unknown'"
   ]
  },
  {
   "cell_type": "code",
   "execution_count": 137,
   "id": "13233187",
   "metadata": {},
   "outputs": [
    {
     "data": {
      "text/plain": [
       "VIN                 0\n",
       "County              0\n",
       "City                0\n",
       "Make                0\n",
       "Model               0\n",
       "EV_Type             0\n",
       "CAFV_Eligibility    0\n",
       "Base_MSRP           0\n",
       "Electric_Utility    0\n",
       "dtype: int64"
      ]
     },
     "execution_count": 137,
     "metadata": {},
     "output_type": "execute_result"
    }
   ],
   "source": [
    "df_clean.fillna('unknown', inplace=True)\n",
    "\n",
    "df_clean.isna().sum()"
   ]
  },
  {
   "cell_type": "markdown",
   "id": "e199b0f4",
   "metadata": {},
   "source": [
    "Missing values at these columns has successfully been handled.\n",
    "\n",
    "Next up is handling the undetected missing values in column `Base_MSRP`. We will first handle the missing values by filling it with the average of the other `Base_MSRP` of the same model. This method makes sense because the base price of each EVs shouldn't far differ from each other since they're from the same model."
   ]
  },
  {
   "cell_type": "code",
   "execution_count": 138,
   "id": "22908d87",
   "metadata": {},
   "outputs": [
    {
     "name": "stdout",
     "output_type": "stream",
     "text": [
      "Before handling\n",
      "Number of rows: 174522\n",
      "Number of model with Base_MSRP of 0: 132\n",
      "\n",
      "After handling\n",
      "Number of rows: 162300\n",
      "Number of model with Base_MSRP of 0: 122\n"
     ]
    }
   ],
   "source": [
    "# check number of rows and models with base msrp of 0\n",
    "bfr = len(df_clean[df_clean['Base_MSRP']==0]['Model'])\n",
    "bfr_u = len(df_clean[df_clean['Base_MSRP']==0]['Model'].unique())\n",
    "\n",
    "# looping each model\n",
    "for model in df_clean['Model'].unique():\n",
    "    prices = df_clean[df_clean['Model'] == model]['Base_MSRP'].unique()         # check each model's uniqe base msrp\n",
    "    if len(prices) > 1:                                                         # if there are multiple base msrp\n",
    "        base_msrp = int(prices[1:].mean())                                      # calculate average base msrp excluding 0\n",
    "        df_clean.loc[(df_clean['Base_MSRP'] == 0) & (df_clean['Model'] == model), 'Base_MSRP'] = base_msrp      # fill missing value with average base msrp\n",
    "\n",
    "# check number of rows and models with base msrp of 0 after handling\n",
    "aft = len(df_clean[df_clean['Base_MSRP']==0]['Model'])\n",
    "aft_u = len(df_clean[df_clean['Base_MSRP']==0]['Model'].unique())\n",
    "\n",
    "# show number of rows and models with base msrp of 0 befora and after handling\n",
    "print(f'Before handling\\nNumber of rows: {bfr}\\nNumber of model with Base_MSRP of 0: {bfr_u}\\n')\n",
    "print(f'After handling\\nNumber of rows: {aft}\\nNumber of model with Base_MSRP of 0: {aft_u}')"
   ]
  },
  {
   "cell_type": "markdown",
   "id": "1643c2d0",
   "metadata": {},
   "source": [
    "Eventhough we've handled some missing values, it seems that there are still some models where the `Base_MSRP` is still unknown. I was considering to fill the missing value with the average `Base_MSRP` of each manufacturer. But there will be too much data affected, which can lead to unreliable and biased results. Dropping all of these rows is still not an option, since many data will be lost. Therefore, the solution that I decided on is to fill the missing values with a base MSRP price received from external sources."
   ]
  },
  {
   "cell_type": "code",
   "execution_count": 139,
   "id": "64c6d3e2",
   "metadata": {},
   "outputs": [
    {
     "data": {
      "text/html": [
       "<div>\n",
       "<style scoped>\n",
       "    .dataframe tbody tr th:only-of-type {\n",
       "        vertical-align: middle;\n",
       "    }\n",
       "\n",
       "    .dataframe tbody tr th {\n",
       "        vertical-align: top;\n",
       "    }\n",
       "\n",
       "    .dataframe thead th {\n",
       "        text-align: right;\n",
       "    }\n",
       "</style>\n",
       "<table border=\"1\" class=\"dataframe\">\n",
       "  <thead>\n",
       "    <tr style=\"text-align: right;\">\n",
       "      <th></th>\n",
       "      <th>VIN</th>\n",
       "    </tr>\n",
       "    <tr>\n",
       "      <th>Model</th>\n",
       "      <th></th>\n",
       "    </tr>\n",
       "  </thead>\n",
       "  <tbody>\n",
       "    <tr>\n",
       "      <th>MODEL Y</th>\n",
       "      <td>35989</td>\n",
       "    </tr>\n",
       "    <tr>\n",
       "      <th>MODEL 3</th>\n",
       "      <td>30092</td>\n",
       "    </tr>\n",
       "    <tr>\n",
       "      <th>LEAF</th>\n",
       "      <td>13366</td>\n",
       "    </tr>\n",
       "    <tr>\n",
       "      <th>BOLT EV</th>\n",
       "      <td>6821</td>\n",
       "    </tr>\n",
       "    <tr>\n",
       "      <th>MODEL X</th>\n",
       "      <td>5796</td>\n",
       "    </tr>\n",
       "  </tbody>\n",
       "</table>\n",
       "</div>"
      ],
      "text/plain": [
       "           VIN\n",
       "Model         \n",
       "MODEL Y  35989\n",
       "MODEL 3  30092\n",
       "LEAF     13366\n",
       "BOLT EV   6821\n",
       "MODEL X   5796"
      ]
     },
     "metadata": {},
     "output_type": "display_data"
    },
    {
     "name": "stdout",
     "output_type": "stream",
     "text": [
      "The top 20 models covers 81.26% of the total rows with base msrp of 0\n",
      "\n",
      "Top 20 EV models:\n",
      " ['MODEL Y', 'MODEL 3', 'LEAF', 'BOLT EV', 'MODEL X', 'VOLT', 'ID.4', 'WRANGLER', 'MUSTANG MACH-E', 'NIRO', 'PRIUS PRIME', 'IONIQ 5', 'X5', 'RAV4 PRIME', 'EV6', 'R1S', 'I3', 'FUSION', 'BOLT EUV', 'R1T']\n"
     ]
    }
   ],
   "source": [
    "# rows filled with base msrp of 0 grouped by model\n",
    "df0 = df_clean[df_clean['Base_MSRP']==0].groupby('Model').agg({'VIN':'count'}).sort_values('VIN', ascending=False)\n",
    "\n",
    "# percentage of the rows of top 20 models compare to the total rows\n",
    "percentage = df0.head(20).values.sum() / df0.values.sum() * 100\n",
    "\n",
    "# show percentage\n",
    "display(df0.head())\n",
    "print(f'The top 20 models covers {percentage:.2f}% of the total rows with base msrp of 0\\n')\n",
    "print('Top 20 EV models:\\n', [i for i in df0.head(20).index])"
   ]
  },
  {
   "cell_type": "markdown",
   "id": "a8b741f1",
   "metadata": {},
   "source": [
    "Searching for the base MSRP of 122 EV models will be very time consuming. If we check the EV models with missing values, we can see that the top 20 models with the highest rows of missing values holds 81% of the whole total of missing value rows. Since most of the data are from these 20 models, we can search the base msrp of these models, and drop the rest of the rows from other models. Dropping the other models will not impact the analysis by much because the amount of these models are not that significant to the total rows, proven by the percentage.\n",
    "\n",
    "In conclusion, we fill the missing values of the top 20 models with the base MSRP price received from external sources, then drop/filter out the rest of the models with missing values. We will the access the top 20 model's base MSRP prices from the [base_msrp.csv](base_msrp.csv) file I've created."
   ]
  },
  {
   "cell_type": "code",
   "execution_count": 170,
   "id": "b9e63f39",
   "metadata": {},
   "outputs": [
    {
     "name": "stdout",
     "output_type": "stream",
     "text": [
      "Rows with base MSRP of 0: 0\n"
     ]
    }
   ],
   "source": [
    "# read base msrp price table\n",
    "df_msrp = pd.read_csv('base_msrp.csv')\n",
    "\n",
    "# looping the top 20 models\n",
    "for model in df_msrp['Models'].unique():\n",
    "    value = df_msrp[df_msrp['Models'] == model]['Base_MSRP'].values[0]                               # base msrp price of the model\n",
    "    df_clean.loc[(df_clean['Base_MSRP'] == 0) & (df_clean['Model'] == model), 'Base_MSRP'] = value   # fill missing value\n",
    "\n",
    "# drop the rest of the model with missing values\n",
    "df_clean  = df_clean[df_clean['Base_MSRP'] > 0]\n",
    "\n",
    "# check for rows with base msrp 0\n",
    "zero = len(df_clean[df_clean['Base_MSRP'] == 0])\n",
    "print(f'Rows with base MSRP of 0: {zero}')"
   ]
  },
  {
   "cell_type": "code",
   "execution_count": 141,
   "id": "a8cea14e",
   "metadata": {},
   "outputs": [
    {
     "name": "stdout",
     "output_type": "stream",
     "text": [
      "<class 'pandas.core.frame.DataFrame'>\n",
      "Index: 147448 entries, 0 to 177864\n",
      "Data columns (total 9 columns):\n",
      " #   Column            Non-Null Count   Dtype \n",
      "---  ------            --------------   ----- \n",
      " 0   VIN               147448 non-null  object\n",
      " 1   County            147448 non-null  object\n",
      " 2   City              147448 non-null  object\n",
      " 3   Make              147448 non-null  object\n",
      " 4   Model             147448 non-null  object\n",
      " 5   EV_Type           147448 non-null  object\n",
      " 6   CAFV_Eligibility  147448 non-null  object\n",
      " 7   Base_MSRP         147448 non-null  int64 \n",
      " 8   Electric_Utility  147448 non-null  object\n",
      "dtypes: int64(1), object(8)\n",
      "memory usage: 11.2+ MB\n"
     ]
    }
   ],
   "source": [
    "# check dataset info after data cleaning\n",
    "df_clean.info()"
   ]
  },
  {
   "cell_type": "markdown",
   "id": "00471e05",
   "metadata": {},
   "source": [
    "This concludes the data cleaning process. Throughout the process, we have reformated the column names and handled the missing values, notably the missing values from the `Base_MSRP` column. The remaining number of rows after data cleaning is 147,448 rows."
   ]
  },
  {
   "cell_type": "markdown",
   "id": "f02f03d0",
   "metadata": {},
   "source": [
    "# **Exploratory Data Analysis**\n",
    "After cleaning the data, we are now able to conduct analysis. This analysis aims to answer each sub-problems that we've defined in the business understanding section."
   ]
  },
  {
   "cell_type": "markdown",
   "id": "1df4f664",
   "metadata": {},
   "source": [
    "## **1. What is the current distribution of EVs across Counties in Washington?**\n",
    "Washington has multiple counties, where each county have different interest in EVs, some will have more and some will have less. We wouldn't want to expand into a county that have small interest, therefore we need to see each countys interest in EVs. We will calculate this by counting the number of registered EVs in each county."
   ]
  },
  {
   "cell_type": "code",
   "execution_count": 143,
   "id": "79095c45",
   "metadata": {},
   "outputs": [],
   "source": [
    "# EV count grouped by county\n",
    "df1 = df_clean.groupby('County',as_index=False).agg({'VIN':'count'}).sort_values('VIN',ascending=False)\n",
    "\n",
    "# load US counties shapefile\n",
    "counties = gpd.read_file(\"https://www2.census.gov/geo/tiger/GENZ2021/shp/cb_2021_us_county_20m.zip\")\n",
    "\n",
    "# filter for Washington state only (FIPS code 53)\n",
    "wa_counties = counties[counties['STATEFP'] == '53']\n",
    "\n",
    "# merge on county name\n",
    "choropleth = wa_counties.merge(df1, left_on='NAME', right_on='County')"
   ]
  },
  {
   "cell_type": "code",
   "execution_count": 144,
   "id": "8e9f85a2",
   "metadata": {},
   "outputs": [
    {
     "data": {
      "image/png": "[encoded data removed]",
      "text/plain": [
       "<Figure size 1400x400 with 3 Axes>"
      ]
     },
     "metadata": {},
     "output_type": "display_data"
    }
   ],
   "source": [
    "# create figure\n",
    "fig, ax = plt.subplots(ncols=2, figsize=(14,4), gridspec_kw={'width_ratios': [2, 1]})\n",
    "fig.suptitle('EV Distribution by County in Washington',ha='center')\n",
    "\n",
    "# create choropleth chart\n",
    "palette = sns.blend_palette([\"#E9EDF2\",'#1E3F78'], as_cmap=True)\n",
    "choropleth.plot(column='VIN', cmap=palette, legend=True, edgecolor='black',ax=ax[0])\n",
    "ax[0].axis('off')\n",
    "\n",
    "# create table for clarity\n",
    "table = ax[1].table(cellText=df1.head(5).values, colLabels=df1.columns, loc='center', cellLoc='center')\n",
    "table.auto_set_font_size(False)\n",
    "table.set_fontsize(12)\n",
    "table.scale(1, 2)\n",
    "ax[1].axis('off')\n",
    "\n",
    "# show chart\n",
    "plt.show()"
   ]
  },
  {
   "cell_type": "markdown",
   "id": "fb30ac7f",
   "metadata": {},
   "source": [
    "From the chart above, we are able to see that the EV distribution in Washington State is centralized in King County by a large amount. This means, the citizens of King County have the highest interest in owning an EV. Therefore, we can conclude that King County has the highest EV sales potential and is a great target for expansion. "
   ]
  },
  {
   "cell_type": "markdown",
   "id": "2702f69d",
   "metadata": {},
   "source": [
    "## **2. Who are the five biggest EV manufacturers by EV count in Washington?**"
   ]
  },
  {
   "cell_type": "markdown",
   "id": "ebc99390",
   "metadata": {},
   "source": [
    "We are planning to enter a market where there are already competitors selling their respective products. Knowing our competitors can give us insights on which manufacturers we need to look out for, such as which manufacturer has the most EV count in Washington. Knowing this, we can analyze how they attract customers to further create a better sales and expansion strategy of our own."
   ]
  },
  {
   "cell_type": "code",
   "execution_count": 172,
   "id": "17a88f89",
   "metadata": {},
   "outputs": [
    {
     "data": {
      "image/png": "[encoded data removed]",
      "text/plain": [
       "<Figure size 800x300 with 1 Axes>"
      ]
     },
     "metadata": {},
     "output_type": "display_data"
    }
   ],
   "source": [
    "# EV count grouped by manufacturers\n",
    "df2 = df_clean.groupby('Make',as_index=False).agg({'VIN':'count'}).sort_values('VIN',ascending=False).head()\n",
    "\n",
    "# create barchart\n",
    "plt.figure(figsize = (8,3))\n",
    "palette = sns.blend_palette(['#1E3F78',\"#CDDCEC\"], n_colors=len(df2))\n",
    "ax = sns.barplot(x=df2['VIN'], y=df2['Make'], data=df2, palette=palette)\n",
    "for container in ax.containers:\n",
    "    ax.bar_label(container, fmt='%.0f', label_type='center',\n",
    "                 color='white', weight='bold', fontsize=10)\n",
    "plt.title('5 Biggest EV Manufacturers in Washington by EV Count')\n",
    "sns.set(style='darkgrid')\n",
    "plt.xlabel('EV Count')\n",
    "plt.ylabel('Manufacturer')\n",
    "\n",
    "# show chart\n",
    "plt.show()\n"
   ]
  },
  {
   "cell_type": "markdown",
   "id": "ca1ed44b",
   "metadata": {},
   "source": [
    "From the chart above, we are able to see the five biggest EV manufacturers in Washington by EV count. Tesla seems to hold the lead by a lot with a total of 79,659 EV's across Washington state, followed by Chevrolet and Nissan with around 13,300 EVs. From this, we can conclude that Tesla dominates the Washington EV market and we need to keep them in mind while strategizing an expansion and sales plan."
   ]
  },
  {
   "cell_type": "markdown",
   "id": "9bf9d6e0",
   "metadata": {},
   "source": [
    "## **3. Which EV type is more prefered in Washington?**\n",
    "There are mainly two types of EVs in Washington, A plug-in hybrid EV (PHEV) and a battery EV (BEV). These two differ in the way they work and both have their advantages and disadvantages. We need to know which type is more prefered by the citizens to come up a better sales strategy."
   ]
  },
  {
   "cell_type": "code",
   "execution_count": 171,
   "id": "57531790",
   "metadata": {},
   "outputs": [
    {
     "data": {
      "image/png": "[encoded data removed]",
      "text/plain": [
       "<Figure size 640x480 with 1 Axes>"
      ]
     },
     "metadata": {},
     "output_type": "display_data"
    }
   ],
   "source": [
    "# EV count grouped by EV type\n",
    "df3 = df_clean.groupby('EV_Type', as_index=False).agg({'VIN':'count'})\n",
    "\n",
    "# create pie chart\n",
    "palette = sns.blend_palette(['#1E3F78',\"#CDDCEC\"], n_colors=3)\n",
    "plt.pie(df3['VIN'], labels=df3['EV_Type'], startangle=90,)\n",
    "plt.pie(df3['VIN'], colors=palette,startangle=90, autopct='%.0f%%',textprops={'color':'White'})\n",
    "plt.title('EV Type Distribution in Washington')\n",
    "\n",
    "# show chart\n",
    "plt.show()"
   ]
  },
  {
   "cell_type": "markdown",
   "id": "f742034e",
   "metadata": {},
   "source": [
    "Out of the the 147,448 EV's in Washington State, 82% of them seems to be from the BEV type. This shows that the citizens have a siginificantly higher preference towards BEVs instead of PHEV. This means, we should focus our sales towards BEVs since they hava the higher demand in Washington State."
   ]
  },
  {
   "cell_type": "markdown",
   "id": "454247f9",
   "metadata": {},
   "source": [
    "## **4. What are the five most common electric utility companies involved in EV infrastructure across counties in Washington State?**\n",
    "There are multiple electric utility companies supporting the growth of EVs in Washington State. By knowing which are the biggest companies, we can identify key electric utilities supporting EV adoption and target collaboration to accelerate our EV growth."
   ]
  },
  {
   "cell_type": "code",
   "execution_count": 173,
   "id": "4b5c9223",
   "metadata": {},
   "outputs": [
    {
     "data": {
      "image/png": "[encoded data removed]",
      "text/plain": [
       "<Figure size 800x300 with 1 Axes>"
      ]
     },
     "metadata": {},
     "output_type": "display_data"
    }
   ],
   "source": [
    "# EV count grouped by Electric Utility\n",
    "df4 = df_clean.groupby('Electric_Utility',as_index=False).agg({'VIN':'count'}).sort_values('VIN', ascending=False).head()\n",
    "\n",
    "# create barchart\n",
    "plt.figure(figsize = (8,3))\n",
    "palette = sns.blend_palette(['#1E3F78',\"#CDDCEC\"], n_colors=len(df4))\n",
    "ax = sns.barplot(x=df4['VIN'], y=df4['Electric_Utility'], data=df4, palette=palette)\n",
    "for container in ax.containers:\n",
    "    ax.bar_label(container, fmt='%.0f', label_type='center',\n",
    "                 color='white', weight='bold', fontsize=10)\n",
    "plt.title('5 Biggest EV Electric Utility Companies in Washington by EV Count')\n",
    "sns.set(style='darkgrid')\n",
    "plt.xlabel('EV Count')\n",
    "plt.ylabel('Electric Utility Company')\n",
    "\n",
    "# show chart\n",
    "plt.show()"
   ]
  },
  {
   "cell_type": "markdown",
   "id": "d2a8c6b2",
   "metadata": {},
   "source": [
    "From the chart, we can see that the company with the highest associated EVs count is Puget Sound Energy Inc, specifically from the City of Tacoma, with over 55,000 associated EVs. The second highest also seems to from the same company but a different branch. This shows that Puges Sound Energy Inc is big stakeholder of the EVs in Washington State, and we should aim to build partnerships with them when we expand to the state."
   ]
  },
  {
   "cell_type": "markdown",
   "id": "1b346dfa",
   "metadata": {},
   "source": [
    "## **5. How is the current EV pricing situation in Washington State?**\n",
    "When entering a new market, we should conduct price analysis to see how's the current pricing situation. To understand better the pricing of EVs in Washington State, we'll descriptive statistics to get the central tendency and disperion of EV prices."
   ]
  },
  {
   "cell_type": "code",
   "execution_count": null,
   "id": "66c7cc51",
   "metadata": {},
   "outputs": [
    {
     "name": "stdout",
     "output_type": "stream",
     "text": [
      "Lowest EV Price: US$ 16975.00\n",
      "Highest EV Price: US$ 184400.00\n",
      "Average EV Price: US$ 43704.58\n",
      "EV price median: US$ 42490.00\n",
      "Most common EV price: US$ 43990.00\n"
     ]
    }
   ],
   "source": [
    "# calculate central tendency\n",
    "print(f'Average EV Price: US$ {df_clean.Base_MSRP.mean():.2f}')\n",
    "print(f'EV price median: US$ {df_clean.Base_MSRP.median():.2f}')\n",
    "print(f'Most common EV price: US$ {df_clean.Base_MSRP.mode()[0]:.2f}')"
   ]
  },
  {
   "cell_type": "markdown",
   "id": "1d8ff3cd",
   "metadata": {},
   "source": [
    "The average price of EVs owned by citizens is US$ 43,704.58, while the median is US$ 42,490.00., and the most common price is US$ 43,990.00. This shows that the customers are catered toward EV's that are priced around the US$ 40,000 range.\n",
    "\n",
    "Next we'll check the spread of EV prices by using dispersion tests."
   ]
  },
  {
   "cell_type": "code",
   "execution_count": 165,
   "id": "883662cb",
   "metadata": {},
   "outputs": [
    {
     "name": "stdout",
     "output_type": "stream",
     "text": [
      "Lowest EV Price: US$ 16975.00\n",
      "Highest EV Price: US$ 184400.00\n",
      "Standard deviation: US$ 14100.39\n",
      "Skewness: 1.92\n"
     ]
    },
    {
     "data": {
      "image/png": "[encoded data removed]",
      "text/plain": [
       "<Figure size 800x300 with 1 Axes>"
      ]
     },
     "metadata": {},
     "output_type": "display_data"
    }
   ],
   "source": [
    "# calculate price range\n",
    "print(f'Lowest EV Price: US$ {min(df_clean.Base_MSRP):.2f}')\n",
    "print(f'Highest EV Price: US$ {max(df_clean.Base_MSRP):.2f}')\n",
    "\n",
    "# calculate dispersion\n",
    "print(f'Standard deviation: US$ {df_clean.Base_MSRP.std():.2f}')\n",
    "print(f'Skewness: {df_clean.Base_MSRP.skew():.2f}')\n",
    "\n",
    "# melihat sebaran data menggunakan histogram\n",
    "plt.figure(figsize = (8,3))\n",
    "df_clean['Base_MSRP'].plot(kind='hist',bins=10)\n",
    "plt.title('Spread of EV Price')\n",
    "plt.axvline(df_clean['Base_MSRP'].mean(), color = 'r')\n",
    "plt.axvline(df_clean['Base_MSRP'].median(), color = 'b')\n",
    "\n",
    "# show chart\n",
    "plt.show()"
   ]
  },
  {
   "cell_type": "markdown",
   "id": "b017dbb9",
   "metadata": {},
   "source": [
    "From the output above, it can be seen that EV price in Washington State ranges from US$ 16,975 to US$ 184,400. Next, the standard deviation of prices from the mean is around US$ 14,100.39. And Finally the skewness of the the spread of prices is 1.92, this value shows that the price doesn't hava normal distribution and has right skewness, meaning that there is high extreme value price. \n",
    "\n",
    "Let's check for outliers. Because the data doesn't have a normal distribution, we'll use Tukey's rule to check for outliers."
   ]
  },
  {
   "cell_type": "code",
   "execution_count": 168,
   "id": "985346e5",
   "metadata": {},
   "outputs": [
    {
     "name": "stdout",
     "output_type": "stream",
     "text": [
      "Outlier percentage: 14.76%\n"
     ]
    },
    {
     "data": {
      "image/png": "[encoded data removed]",
      "text/plain": [
       "<Figure size 800x300 with 1 Axes>"
      ]
     },
     "metadata": {},
     "output_type": "display_data"
    }
   ],
   "source": [
    "# calculate quantile nominals\n",
    "q1 = np.percentile(df_clean['Base_MSRP'], 25)\n",
    "q2 = np.median(df_clean['Base_MSRP'])\n",
    "q3 = np.percentile(df_clean['Base_MSRP'], 75)\n",
    "\n",
    "# calculate iqr, lower fence, and upper fence\n",
    "iqr = q3 - q1\n",
    "lower_fence = q1 - 1.5 * iqr\n",
    "upper_fence = q3 + 1.5 * iqr\n",
    "\n",
    "# filter outliers only\n",
    "outlier = df_clean[(df_clean['Base_MSRP'] < lower_fence) | (df_clean['Base_MSRP'] > upper_fence)]\n",
    "\n",
    "# calculate outlier percentage\n",
    "percentage = len(outlier)/len(df_clean)*100\n",
    "\n",
    "# ouput calculations\n",
    "print(f'Outlier percentage: {percentage:.2f}%')\n",
    "\n",
    "# boxplot to see outliers\n",
    "plt.figure(figsize = (8,3))\n",
    "df_clean['Base_MSRP'].plot(kind='box', vert=False)\n",
    "plt.title('Price Outliers')\n",
    "\n",
    "# show chart\n",
    "plt.show()"
   ]
  },
  {
   "cell_type": "markdown",
   "id": "939a55ab",
   "metadata": {},
   "source": [
    "From the output above, we can see that 14.76% percent of our price data are outliers. Eventhough there are outliers, we will not be handling them. Because in this context, these outliers represent how the current pricing situation is. There will be EVs that have higher prices than others, so we will still represent them by not removing these outliers."
   ]
  },
  {
   "cell_type": "markdown",
   "id": "5892554f",
   "metadata": {},
   "source": [
    "## **6. What is a statistically reliable average price range for selling EVs in Washington?**\n",
    "Knowing the EV pricing situation, we also need to decide how much should we sell our EVs for. To understand the range of price that we should target, we'll use confidence interval to calculate the lower and higher price boundary that we should target."
   ]
  },
  {
   "cell_type": "code",
   "execution_count": 152,
   "id": "be240dd4",
   "metadata": {},
   "outputs": [
    {
     "name": "stdout",
     "output_type": "stream",
     "text": [
      "Lower bound price of EVs: US$ 43632.61\n",
      "Higher bound price of EVs: US$ 43776.55\n"
     ]
    }
   ],
   "source": [
    "# calculate standard deviation\n",
    "std = df_clean['Base_MSRP'].std()\n",
    "\n",
    "# number of rows\n",
    "N = len(df_clean)\n",
    "\n",
    "# calculate upper and lower limit\n",
    "low, up = stats.norm.interval(0.95,loc=df_clean['Base_MSRP'].mean(),scale=std/np.sqrt(N))\n",
    "\n",
    "# show calculation\n",
    "print(f'Lower bound price of EVs: US$ {low:.2f}')\n",
    "print(f'Higher bound price of EVs: US$ {up:.2f}')"
   ]
  },
  {
   "cell_type": "markdown",
   "id": "517a4f6c",
   "metadata": {},
   "source": [
    "From the output, we can see that the ideal range to price our EVs ranges from US$ 43,637.26 to US$ 43,782.77. This supports the previous statement that customers are catered toward EV's that are priced around the US$ 40,000 range."
   ]
  },
  {
   "cell_type": "markdown",
   "id": "ba974893",
   "metadata": {},
   "source": [
    "# **Summary**\n",
    "The analysis of the Washington State EV market has been completed, here are several key insights that we uncovered:\n",
    "- **EV Distribution Centralizes in King County**: Having the highest number of EV users, King County represents a prime target for market entry and expansion.\n",
    "- **Tesla Dominates the EV Market**: Tesla holds the largest share of the EV market in Washington. Studying their sales strategy could provide valuable insights for positioning and growth.\n",
    "- **BEVs are the Most Common EVs**: BEVs significantly outperform Plug-in Hybrid Electric Vehicles (PHEVs) in terms of demand. The company should prioritize BEVs in its product lineup.\n",
    "- **Puget Sound Energy Inc. is the Top Electric Utility Company**: As the utility provider with the highest number of associated EVs, partnering with Puget Sound Energy could enhance infrastructure support and market reach.\n",
    "- **EV Prices Averages around US$ 40,000**: Most EV owners in the state opt for vehicles priced around $40,000. Based on our analysis, the optimal price range for launching our EVs is between $43,637.26 and $43,782.77."
   ]
  },
  {
   "cell_type": "markdown",
   "id": "c25aa72b",
   "metadata": {},
   "source": [
    "# **Reccomendations**\n",
    "From the insights that we uncovered, here are some recommendations I can give to EV companies that are aiming to expand into Washington State:\n",
    "1. **Target Market Entry in King County**  \n",
    "   Begin expansion efforts in **King County**, which hosts the largest concentration of electric vehicle (EV) users in Washington State. This area offers high visibility and early adopter advantages.\n",
    "\n",
    "2. **Prioritize Battery Electric Vehicles (BEVs)**  \n",
    "   Focus on offering **Battery Electric Vehicles (BEVs)** over Plug-in Hybrid Electric Vehicles (PHEVs), as BEVs demonstrate stronger demand and align more closely with the region’s sustainability goals.\n",
    "\n",
    "3. **Study Tesla’s Market Positioning**  \n",
    "   Use **Tesla’s strategy** as a benchmark for brand positioning and consumer engagement. Their success in similar markets provides valuable insights for establishing competitive presence.\n",
    "\n",
    "4. **Collaborate with Puget Sound Energy (PSE)**  \n",
    "   Partner with **Puget Sound Energy** to support infrastructure development, such as charging stations and grid enhancements. This will help ensure smoother adoption and customer satisfaction.\n",
    "\n",
    "5. **Competitive Pricing Strategy**  \n",
    "   Set vehicle pricing within the range of **$43,637.26 to $43,782.77**, which aligns with consumer expectations and current market trends in the region.\n"
   ]
  }
 ],
 "metadata": {
  "kernelspec": {
   "display_name": "base",
   "language": "python",
   "name": "python3"
  },
  "language_info": {
   "codemirror_mode": {
    "name": "ipython",
    "version": 3
   },
   "file_extension": ".py",
   "mimetype": "text/x-python",
   "name": "python",
   "nbconvert_exporter": "python",
   "pygments_lexer": "ipython3",
   "version": "3.11.7"
  }
 },
 "nbformat": 4,
 "nbformat_minor": 5
}
